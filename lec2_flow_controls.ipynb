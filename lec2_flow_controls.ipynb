{
 "cells": [
  {
   "cell_type": "markdown",
   "id": "e00f4175",
   "metadata": {},
   "source": [
    "# 2) AKIŞ KONTROLLERİ"
   ]
  },
  {
   "cell_type": "markdown",
   "id": "630c941e",
   "metadata": {},
   "source": [
    "Mantıksal sonuç üreten işlemleri kontrol ederek \n",
    "koşullar oluştururuz. Bir çok programlama dilinde olduğu gibi py'de de if-else kullanılır."
   ]
  },
  {
   "cell_type": "code",
   "execution_count": 1,
   "id": "a1324bc5",
   "metadata": {},
   "outputs": [],
   "source": [
    "x=10\n",
    "y=3"
   ]
  },
  {
   "cell_type": "code",
   "execution_count": 2,
   "id": "b9a8f7bf",
   "metadata": {},
   "outputs": [
    {
     "data": {
      "text/plain": [
       "True"
      ]
     },
     "execution_count": 2,
     "metadata": {},
     "output_type": "execute_result"
    }
   ],
   "source": [
    "#Mantiksal sonuc ureten bir islem\n",
    "x>y"
   ]
  },
  {
   "cell_type": "code",
   "execution_count": 3,
   "id": "a7f17ca5",
   "metadata": {},
   "outputs": [
    {
     "data": {
      "text/plain": [
       "False"
      ]
     },
     "execution_count": 3,
     "metadata": {},
     "output_type": "execute_result"
    }
   ],
   "source": [
    "x==y"
   ]
  },
  {
   "cell_type": "code",
   "execution_count": 4,
   "id": "8c2b536b",
   "metadata": {},
   "outputs": [
    {
     "data": {
      "text/plain": [
       "False"
      ]
     },
     "execution_count": 4,
     "metadata": {},
     "output_type": "execute_result"
    }
   ],
   "source": [
    "#ve islemi\n",
    "bool1=((x<y) and (x!=y))\n",
    "bool1"
   ]
  },
  {
   "cell_type": "code",
   "execution_count": 5,
   "id": "3b6854b8",
   "metadata": {},
   "outputs": [
    {
     "data": {
      "text/plain": [
       "True"
      ]
     },
     "execution_count": 5,
     "metadata": {},
     "output_type": "execute_result"
    }
   ],
   "source": [
    "#veya islemi\n",
    "bool2=((x<y) or (x!=y))\n",
    "bool2"
   ]
  },
  {
   "cell_type": "code",
   "execution_count": 6,
   "id": "aabd3e14",
   "metadata": {},
   "outputs": [
    {
     "data": {
      "text/plain": [
       "True"
      ]
     },
     "execution_count": 6,
     "metadata": {},
     "output_type": "execute_result"
    }
   ],
   "source": [
    "#not islemi\n",
    "bool3=not((x<y) and (x!=y))\n",
    "bool3"
   ]
  },
  {
   "cell_type": "code",
   "execution_count": 7,
   "id": "0acf51cd",
   "metadata": {},
   "outputs": [
    {
     "data": {
      "text/plain": [
       "True"
      ]
     },
     "execution_count": 7,
     "metadata": {},
     "output_type": "execute_result"
    }
   ],
   "source": [
    "#in islemi. Liste icinde 5 var mi? setlerde de kullanilabilir\n",
    "bool4=5 in [1,2,3,4,5]\n",
    "bool4"
   ]
  },
  {
   "cell_type": "markdown",
   "id": "80c9ad22",
   "metadata": {},
   "source": [
    "## 2.1) İf-Else"
   ]
  },
  {
   "cell_type": "markdown",
   "id": "ee0f05a9",
   "metadata": {},
   "source": [
    "Py'de if kampsamı tab ile belirlenir. İf'den sonra süslü parantezler yerine bir tab boşluk bırakılarak kodlar yazılır. Scope olarak süslü parantezler kullanılmaz, tab kullanılır."
   ]
  },
  {
   "cell_type": "code",
   "execution_count": 8,
   "id": "b71f5eef",
   "metadata": {},
   "outputs": [
    {
     "name": "stdout",
     "output_type": "stream",
     "text": [
      "yanlis\n"
     ]
    }
   ],
   "source": [
    "bool1=False\n",
    "if bool1:\n",
    "    print(\"dogru\")\n",
    "else:\n",
    "    print(\"yanlis\")"
   ]
  },
  {
   "cell_type": "code",
   "execution_count": 9,
   "id": "fb49c9a2",
   "metadata": {},
   "outputs": [
    {
     "name": "stdout",
     "output_type": "stream",
     "text": [
      "test2\n"
     ]
    }
   ],
   "source": [
    "str=\"test2\"\n",
    "if str==\"test1\":\n",
    "    print(\"test1\")\n",
    "elif str==\"test2\":\n",
    "    print(\"test2\")\n",
    "elif str==\"test3\":\n",
    "    print(\"test3\")\n",
    "else:\n",
    "    print(\"test4\")"
   ]
  }
 ],
 "metadata": {
  "kernelspec": {
   "display_name": "Python 3 (ipykernel)",
   "language": "python",
   "name": "python3"
  },
  "language_info": {
   "codemirror_mode": {
    "name": "ipython",
    "version": 3
   },
   "file_extension": ".py",
   "mimetype": "text/x-python",
   "name": "python",
   "nbconvert_exporter": "python",
   "pygments_lexer": "ipython3",
   "version": "3.9.13"
  }
 },
 "nbformat": 4,
 "nbformat_minor": 5
}
