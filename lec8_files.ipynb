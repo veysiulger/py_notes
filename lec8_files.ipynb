{
 "cells": [
  {
   "cell_type": "markdown",
   "id": "9f381420",
   "metadata": {},
   "source": [
    "# 8) DOSYALAR"
   ]
  },
  {
   "cell_type": "markdown",
   "id": "ab2ab861",
   "metadata": {},
   "source": [
    "Aşağıdaki kod sadece jupyter'de geçerlidir."
   ]
  },
  {
   "cell_type": "code",
   "execution_count": 1,
   "id": "21faade0",
   "metadata": {},
   "outputs": [
    {
     "name": "stdout",
     "output_type": "stream",
     "text": [
      "Overwriting my_file.txt\n"
     ]
    }
   ],
   "source": [
    "%%writefile my_file.txt\n",
    "test1\n",
    "test2\n",
    "test3"
   ]
  },
  {
   "cell_type": "markdown",
   "id": "bd28fcaf",
   "metadata": {},
   "source": [
    "dosyadan veri okuma işleminde veriler satır satır okunur, ve cursor en son satıra atlar. Bu son satır boştur. Bu yüzden aşağıdaki gibi, ikinci okumada okunan veri, boş olarak gözükür:"
   ]
  },
  {
   "cell_type": "code",
   "execution_count": 2,
   "id": "079d2107",
   "metadata": {},
   "outputs": [
    {
     "data": {
      "text/plain": [
       "'test1\\ntest2\\ntest3\\n'"
      ]
     },
     "execution_count": 2,
     "metadata": {},
     "output_type": "execute_result"
    }
   ],
   "source": [
    "myFile=open(\"my_file.txt\")\n",
    "myFile.read()"
   ]
  },
  {
   "cell_type": "code",
   "execution_count": 3,
   "id": "9805d787",
   "metadata": {},
   "outputs": [
    {
     "data": {
      "text/plain": [
       "''"
      ]
     },
     "execution_count": 3,
     "metadata": {},
     "output_type": "execute_result"
    }
   ],
   "source": [
    "#İkinci okumada, bosluk okunur\n",
    "#Cunku ilk okumada, cursor tüm satirlari okuyup,\n",
    "#en sona gelmistir, yani satir sonuna.\n",
    "myFile.read()"
   ]
  },
  {
   "cell_type": "markdown",
   "id": "959febe0",
   "metadata": {},
   "source": [
    "Boş veri gelmemesi için, kursor tekrardan başa alınmalıdır."
   ]
  },
  {
   "cell_type": "code",
   "execution_count": 4,
   "id": "a8000621",
   "metadata": {},
   "outputs": [
    {
     "data": {
      "text/plain": [
       "'test1\\ntest2\\ntest3\\n'"
      ]
     },
     "execution_count": 4,
     "metadata": {},
     "output_type": "execute_result"
    }
   ],
   "source": [
    "#cursor tekrardan basa alinir.\n",
    "myFile.seek(0)\n",
    "myFile.read()"
   ]
  },
  {
   "cell_type": "code",
   "execution_count": 5,
   "id": "59eacb7d",
   "metadata": {},
   "outputs": [],
   "source": [
    "#acilan dosya kapatilmalidir.\n",
    "myFile.close()"
   ]
  },
  {
   "cell_type": "markdown",
   "id": "f4bc4b1f",
   "metadata": {},
   "source": [
    "## 8.1) Dosya İşlemleri İçin Kolay Yöntem"
   ]
  },
  {
   "cell_type": "markdown",
   "id": "846e4634",
   "metadata": {},
   "source": [
    "Basit yöntem sayesinde, cursoru başa almak gibi işlemler yapmaya gerek yoktur."
   ]
  },
  {
   "cell_type": "code",
   "execution_count": 6,
   "id": "444d9cc2",
   "metadata": {},
   "outputs": [
    {
     "data": {
      "text/plain": [
       "'test1\\ntest2\\ntest3\\n'"
      ]
     },
     "execution_count": 6,
     "metadata": {},
     "output_type": "execute_result"
    }
   ],
   "source": [
    "with open(\"my_file.txt\") as myFile:\n",
    "    myContent=myFile.read()\n",
    "myContent"
   ]
  },
  {
   "cell_type": "code",
   "execution_count": 7,
   "id": "9a9177b0",
   "metadata": {},
   "outputs": [
    {
     "data": {
      "text/plain": [
       "'test1\\ntest2\\ntest3\\n'"
      ]
     },
     "execution_count": 7,
     "metadata": {},
     "output_type": "execute_result"
    }
   ],
   "source": [
    "myContent"
   ]
  },
  {
   "cell_type": "code",
   "execution_count": 8,
   "id": "bc928a39",
   "metadata": {},
   "outputs": [],
   "source": [
    "#dosyaya veri yazmak icin\n",
    "with open(\"my_file.txt\",mode=\"w\") as myNewFile:\n",
    "    myNewFile.write(\"test4\")"
   ]
  },
  {
   "cell_type": "code",
   "execution_count": 9,
   "id": "7724f6f5",
   "metadata": {},
   "outputs": [
    {
     "data": {
      "text/plain": [
       "'test4'"
      ]
     },
     "execution_count": 9,
     "metadata": {},
     "output_type": "execute_result"
    }
   ],
   "source": [
    "with open(\"my_file.txt\",mode=\"r\") as myNewFile2:\n",
    "    myContent=myNewFile2.read()\n",
    "myContent"
   ]
  },
  {
   "cell_type": "code",
   "execution_count": 10,
   "id": "4f1f71c2",
   "metadata": {},
   "outputs": [],
   "source": [
    "#append ile acmak\n",
    "with open(\"my_file.txt\",mode=\"a\") as myNewFile3:\n",
    "    myNewFile3.write(\"test5\")"
   ]
  },
  {
   "cell_type": "code",
   "execution_count": 11,
   "id": "2fbe2e87",
   "metadata": {},
   "outputs": [
    {
     "data": {
      "text/plain": [
       "'test4test5'"
      ]
     },
     "execution_count": 11,
     "metadata": {},
     "output_type": "execute_result"
    }
   ],
   "source": [
    "with open(\"my_file.txt\",mode=\"r\") as myNewFile4:\n",
    "    myContent=myNewFile4.read()\n",
    "myContent"
   ]
  },
  {
   "cell_type": "code",
   "execution_count": null,
   "id": "20615039",
   "metadata": {},
   "outputs": [],
   "source": []
  }
 ],
 "metadata": {
  "kernelspec": {
   "display_name": "Python 3 (ipykernel)",
   "language": "python",
   "name": "python3"
  },
  "language_info": {
   "codemirror_mode": {
    "name": "ipython",
    "version": 3
   },
   "file_extension": ".py",
   "mimetype": "text/x-python",
   "name": "python",
   "nbconvert_exporter": "python",
   "pygments_lexer": "ipython3",
   "version": "3.9.13"
  }
 },
 "nbformat": 4,
 "nbformat_minor": 5
}
