{
 "cells": [
  {
   "cell_type": "markdown",
   "id": "c9953047",
   "metadata": {},
   "source": [
    "# 5) FONKSİYONLAR"
   ]
  },
  {
   "cell_type": "markdown",
   "id": "2362fafa",
   "metadata": {},
   "source": [
    "Fonksiyon mantığı diğer programlama dillerinde olduğu gibidir. Geriye değer döndüren bir fanksiyon:"
   ]
  },
  {
   "cell_type": "code",
   "execution_count": 1,
   "id": "900d7b1b",
   "metadata": {},
   "outputs": [],
   "source": [
    "def getSum(num1,num2):\n",
    "    return num1+num2"
   ]
  },
  {
   "cell_type": "code",
   "execution_count": 2,
   "id": "a290eb73",
   "metadata": {},
   "outputs": [
    {
     "data": {
      "text/plain": [
       "8.4"
      ]
     },
     "execution_count": 2,
     "metadata": {},
     "output_type": "execute_result"
    }
   ],
   "source": [
    "x=getSum(3,5.4)\n",
    "x"
   ]
  },
  {
   "cell_type": "markdown",
   "id": "a3e38959",
   "metadata": {},
   "source": [
    "Eğer bir fonksiyonun kaç tane argüman alacağı bilinmiyorsa ya da çok sayıda argüman alacak ise, fonksiyon parametresine *args yazılır. örneğin;"
   ]
  },
  {
   "cell_type": "code",
   "execution_count": 3,
   "id": "68f8790e",
   "metadata": {},
   "outputs": [],
   "source": [
    "def argsSum(*args):\n",
    "    result=0\n",
    "    for item in args:\n",
    "        result=result+item\n",
    "    return result"
   ]
  },
  {
   "cell_type": "code",
   "execution_count": 4,
   "id": "1740fd7a",
   "metadata": {},
   "outputs": [
    {
     "data": {
      "text/plain": [
       "15"
      ]
     },
     "execution_count": 4,
     "metadata": {},
     "output_type": "execute_result"
    }
   ],
   "source": [
    "result=argsSum(1,2,3,4,5)\n",
    "result"
   ]
  },
  {
   "cell_type": "code",
   "execution_count": 5,
   "id": "1a0cd515",
   "metadata": {},
   "outputs": [
    {
     "data": {
      "text/plain": [
       "210"
      ]
     },
     "execution_count": 5,
     "metadata": {},
     "output_type": "execute_result"
    }
   ],
   "source": [
    "result=argsSum(10,20,30,40,50,60)\n",
    "result"
   ]
  },
  {
   "cell_type": "markdown",
   "id": "b55977bf",
   "metadata": {},
   "source": [
    "Eğer bir fonksiyona parametre olarak dictionary girilicek ise, fonksiyon parametresine **kwargs yazılır. Örneğin;"
   ]
  },
  {
   "cell_type": "code",
   "execution_count": 6,
   "id": "7c8cb3be",
   "metadata": {},
   "outputs": [],
   "source": [
    "def kwargsExample(**kwargs):\n",
    "    if \"apple\" in kwargs:\n",
    "        print(\"apple\")\n",
    "    else:\n",
    "        print(\"not apple\")"
   ]
  },
  {
   "cell_type": "code",
   "execution_count": 7,
   "id": "195faedb",
   "metadata": {},
   "outputs": [
    {
     "name": "stdout",
     "output_type": "stream",
     "text": [
      "apple\n"
     ]
    }
   ],
   "source": [
    "result=kwargsExample(apple=100,babana=150,melon=200)\n",
    "result"
   ]
  },
  {
   "cell_type": "code",
   "execution_count": 8,
   "id": "3ead2379",
   "metadata": {},
   "outputs": [
    {
     "name": "stdout",
     "output_type": "stream",
     "text": [
      "not apple\n"
     ]
    }
   ],
   "source": [
    "result=kwargsExample(babana=150,melon=200)\n",
    "result"
   ]
  },
  {
   "cell_type": "markdown",
   "id": "a364d264",
   "metadata": {},
   "source": [
    "Fonksiyon içerisinden, globalde tanımlanan değişkeni değiştirmek istersek;"
   ]
  },
  {
   "cell_type": "code",
   "execution_count": 9,
   "id": "1dc96e5f",
   "metadata": {},
   "outputs": [],
   "source": [
    "y=5\n",
    "def changeY():\n",
    "    global y\n",
    "    y=100\n",
    "    print(y)"
   ]
  },
  {
   "cell_type": "code",
   "execution_count": 10,
   "id": "c1799212",
   "metadata": {},
   "outputs": [
    {
     "data": {
      "text/plain": [
       "5"
      ]
     },
     "execution_count": 10,
     "metadata": {},
     "output_type": "execute_result"
    }
   ],
   "source": [
    "y"
   ]
  },
  {
   "cell_type": "markdown",
   "id": "9b134b7c",
   "metadata": {},
   "source": [
    "### Map Fonksiyonu"
   ]
  },
  {
   "cell_type": "markdown",
   "id": "ae7a3801",
   "metadata": {},
   "source": [
    "Bir fonksiyona parametre olarak bir dizi girilecek ise, ve fonksiyon da dizi döndürecek ise, map fonksiyonu kullanılabilir."
   ]
  },
  {
   "cell_type": "code",
   "execution_count": 11,
   "id": "bccdcc67",
   "metadata": {},
   "outputs": [],
   "source": [
    "def divideNum(num):\n",
    "    return num/2"
   ]
  },
  {
   "cell_type": "code",
   "execution_count": 12,
   "id": "3fd02668",
   "metadata": {},
   "outputs": [],
   "source": [
    "myList=[3,5,7,98,8]"
   ]
  },
  {
   "cell_type": "code",
   "execution_count": 13,
   "id": "ffc6d94b",
   "metadata": {},
   "outputs": [],
   "source": [
    "resultList=list(map(divideNum,myList))"
   ]
  },
  {
   "cell_type": "code",
   "execution_count": 14,
   "id": "1d61c875",
   "metadata": {},
   "outputs": [
    {
     "data": {
      "text/plain": [
       "[1.5, 2.5, 3.5, 49.0, 4.0]"
      ]
     },
     "execution_count": 14,
     "metadata": {},
     "output_type": "execute_result"
    }
   ],
   "source": [
    "resultList"
   ]
  },
  {
   "cell_type": "markdown",
   "id": "f31f0f19",
   "metadata": {},
   "source": [
    "### Filter"
   ]
  },
  {
   "cell_type": "markdown",
   "id": "e9474ed2",
   "metadata": {},
   "source": [
    "Bir fonksiyona dizi parametre olarak girilicek ise ve fonksiyonda geriye istediğimiz değerleri döndürecek ise filter kullanılır."
   ]
  },
  {
   "cell_type": "code",
   "execution_count": 15,
   "id": "f63d3632",
   "metadata": {},
   "outputs": [],
   "source": [
    "def controlStr(string):\n",
    "    return \"test\" in string"
   ]
  },
  {
   "cell_type": "code",
   "execution_count": 16,
   "id": "f255113c",
   "metadata": {},
   "outputs": [],
   "source": [
    "myStr=[\"lorem\",\"test\",\"ipsum\",\"test\"]"
   ]
  },
  {
   "cell_type": "code",
   "execution_count": 17,
   "id": "dd7583b4",
   "metadata": {},
   "outputs": [
    {
     "data": {
      "text/plain": [
       "['test', 'test']"
      ]
     },
     "execution_count": 17,
     "metadata": {},
     "output_type": "execute_result"
    }
   ],
   "source": [
    "value=list(filter(controlStr,myStr))\n",
    "value"
   ]
  },
  {
   "cell_type": "markdown",
   "id": "a397f244",
   "metadata": {},
   "source": [
    "### Lambda"
   ]
  },
  {
   "cell_type": "markdown",
   "id": "c6df8fed",
   "metadata": {},
   "source": [
    "Tek satırda fonksiyon yazmaya yarar."
   ]
  },
  {
   "cell_type": "code",
   "execution_count": 18,
   "id": "3318b7db",
   "metadata": {},
   "outputs": [],
   "source": [
    "multiplyLambda=lambda num :num*3"
   ]
  },
  {
   "cell_type": "code",
   "execution_count": 19,
   "id": "255bacb7",
   "metadata": {},
   "outputs": [
    {
     "data": {
      "text/plain": [
       "90"
      ]
     },
     "execution_count": 19,
     "metadata": {},
     "output_type": "execute_result"
    }
   ],
   "source": [
    "value=multiplyLambda(30)\n",
    "value"
   ]
  },
  {
   "cell_type": "markdown",
   "id": "a21c409f",
   "metadata": {},
   "source": [
    "map ile lambda kullanımı:"
   ]
  },
  {
   "cell_type": "code",
   "execution_count": 20,
   "id": "6e19f261",
   "metadata": {},
   "outputs": [],
   "source": [
    "numList=[1,2,3,4,5,6,7]"
   ]
  },
  {
   "cell_type": "code",
   "execution_count": 21,
   "id": "5c45c628",
   "metadata": {},
   "outputs": [
    {
     "data": {
      "text/plain": [
       "[4, 8, 12, 16, 20, 24, 28]"
      ]
     },
     "execution_count": 21,
     "metadata": {},
     "output_type": "execute_result"
    }
   ],
   "source": [
    "value=list(map(lambda num:num*4,numList))\n",
    "value"
   ]
  },
  {
   "cell_type": "code",
   "execution_count": null,
   "id": "f077df1d",
   "metadata": {},
   "outputs": [],
   "source": []
  }
 ],
 "metadata": {
  "kernelspec": {
   "display_name": "Python 3 (ipykernel)",
   "language": "python",
   "name": "python3"
  },
  "language_info": {
   "codemirror_mode": {
    "name": "ipython",
    "version": 3
   },
   "file_extension": ".py",
   "mimetype": "text/x-python",
   "name": "python",
   "nbconvert_exporter": "python",
   "pygments_lexer": "ipython3",
   "version": "3.9.13"
  }
 },
 "nbformat": 4,
 "nbformat_minor": 5
}
