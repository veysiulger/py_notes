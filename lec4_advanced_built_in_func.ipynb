{
 "cells": [
  {
   "cell_type": "markdown",
   "id": "793b8d71",
   "metadata": {},
   "source": [
    "# 4) İLERİ SEVİYE İŞLEMLER"
   ]
  },
  {
   "cell_type": "markdown",
   "id": "1e73a7f1",
   "metadata": {},
   "source": [
    "## 4.1) Yararlı Fonksiyonlar"
   ]
  },
  {
   "cell_type": "markdown",
   "id": "d7b10d64",
   "metadata": {},
   "source": [
    "### range"
   ]
  },
  {
   "cell_type": "markdown",
   "id": "51319703",
   "metadata": {},
   "source": [
    "Veri biliminde kullanılabilir."
   ]
  },
  {
   "cell_type": "code",
   "execution_count": 1,
   "id": "0aaa040c",
   "metadata": {},
   "outputs": [
    {
     "name": "stdout",
     "output_type": "stream",
     "text": [
      "[0, 2, 4, 6, 8, 10, 12, 14, 16, 18, 20, 22, 24, 26, 28, 30, 32, 34, 36, 38, 40, 42, 44, 46, 48]\n"
     ]
    }
   ],
   "source": [
    "#0'den 50'ye kadar 2 şer\n",
    "myList=range(0,50,2)\n",
    "print(list(myList))"
   ]
  },
  {
   "cell_type": "markdown",
   "id": "9a525a68",
   "metadata": {},
   "source": [
    "### enumerate"
   ]
  },
  {
   "cell_type": "markdown",
   "id": "218aac1f",
   "metadata": {},
   "source": [
    "enumerate sayesinde, listeyi indeksi ile birlikte alabiliriz."
   ]
  },
  {
   "cell_type": "code",
   "execution_count": 2,
   "id": "5f9419b2",
   "metadata": {},
   "outputs": [
    {
     "name": "stdout",
     "output_type": "stream",
     "text": [
      "(0, 10)\n",
      "(1, 20)\n",
      "(2, 30)\n",
      "(3, 40)\n"
     ]
    }
   ],
   "source": [
    "myList=[10,20,30,40]\n",
    "for element in enumerate(myList):\n",
    "    print(element)"
   ]
  },
  {
   "cell_type": "code",
   "execution_count": 3,
   "id": "fba29c01",
   "metadata": {},
   "outputs": [
    {
     "name": "stdout",
     "output_type": "stream",
     "text": [
      "0\n",
      "1\n",
      "2\n",
      "3\n"
     ]
    }
   ],
   "source": [
    "myList=[10,20,30,40]\n",
    "for (index,value) in enumerate(myList):\n",
    "    print(index)\n",
    "    #print(value)"
   ]
  },
  {
   "cell_type": "markdown",
   "id": "861a39b1",
   "metadata": {},
   "source": [
    "Rastgele sayı üretmek için random metodu kullanılır."
   ]
  },
  {
   "cell_type": "markdown",
   "id": "0e9e76d8",
   "metadata": {},
   "source": [
    "### zip"
   ]
  },
  {
   "cell_type": "markdown",
   "id": "053f2542",
   "metadata": {},
   "source": [
    "Farklı listeleri birleştirmeye yarar. Tuple olarak listeleri birleştirir."
   ]
  },
  {
   "cell_type": "code",
   "execution_count": 4,
   "id": "ae99fa9a",
   "metadata": {},
   "outputs": [],
   "source": [
    "foodList=[\"apple\",\"banana\",\"melon\",\"orange\"]\n",
    "caloriesList=[100,150,200,250]\n",
    "dayList=[\"monday\",\"tuesday\",\"wednesday\",\"thursday\"]"
   ]
  },
  {
   "cell_type": "code",
   "execution_count": 5,
   "id": "4c6a6421",
   "metadata": {},
   "outputs": [
    {
     "data": {
      "text/plain": [
       "[('apple', 100, 'monday'),\n",
       " ('banana', 150, 'tuesday'),\n",
       " ('melon', 200, 'wednesday'),\n",
       " ('orange', 250, 'thursday')]"
      ]
     },
     "execution_count": 5,
     "metadata": {},
     "output_type": "execute_result"
    }
   ],
   "source": [
    "zippedList=list(zip(foodList,caloriesList,dayList))\n",
    "zippedList"
   ]
  },
  {
   "cell_type": "markdown",
   "id": "db1b2518",
   "metadata": {},
   "source": [
    "## 4.2)Detaylar "
   ]
  },
  {
   "cell_type": "markdown",
   "id": "6e33b9b1",
   "metadata": {},
   "source": [
    "### List Comprehension"
   ]
  },
  {
   "cell_type": "markdown",
   "id": "4c866514",
   "metadata": {},
   "source": [
    "String verinin her bir karakterini listeye eleman olarak eklemek için bir yöntem:"
   ]
  },
  {
   "cell_type": "code",
   "execution_count": 6,
   "id": "6f5db01d",
   "metadata": {},
   "outputs": [
    {
     "data": {
      "text/plain": [
       "['l',\n",
       " 'o',\n",
       " 'r',\n",
       " 'e',\n",
       " 'm',\n",
       " ' ',\n",
       " 'i',\n",
       " 'p',\n",
       " 's',\n",
       " 'u',\n",
       " 'm',\n",
       " ' ',\n",
       " 'd',\n",
       " 'o',\n",
       " 'l',\n",
       " 'o',\n",
       " 'r']"
      ]
     },
     "execution_count": 6,
     "metadata": {},
     "output_type": "execute_result"
    }
   ],
   "source": [
    "newList=[]\n",
    "myStr=\"lorem ipsum dolor\"\n",
    "\n",
    "newList=[element for element in myStr]\n",
    "newList"
   ]
  },
  {
   "cell_type": "code",
   "execution_count": 7,
   "id": "251d6acc",
   "metadata": {},
   "outputs": [
    {
     "data": {
      "text/plain": [
       "[0.5, 1.0, 1.5, 2.0, 2.5]"
      ]
     },
     "execution_count": 7,
     "metadata": {},
     "output_type": "execute_result"
    }
   ],
   "source": [
    "newList=[1,2,3,4,5]\n",
    "newList2=[num/2 for num in newList]\n",
    "newList2"
   ]
  },
  {
   "cell_type": "code",
   "execution_count": null,
   "id": "439dd49d",
   "metadata": {},
   "outputs": [],
   "source": []
  }
 ],
 "metadata": {
  "kernelspec": {
   "display_name": "Python 3 (ipykernel)",
   "language": "python",
   "name": "python3"
  },
  "language_info": {
   "codemirror_mode": {
    "name": "ipython",
    "version": 3
   },
   "file_extension": ".py",
   "mimetype": "text/x-python",
   "name": "python",
   "nbconvert_exporter": "python",
   "pygments_lexer": "ipython3",
   "version": "3.9.13"
  }
 },
 "nbformat": 4,
 "nbformat_minor": 5
}
