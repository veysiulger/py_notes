{
 "cells": [
  {
   "cell_type": "markdown",
   "id": "0ff7402e",
   "metadata": {},
   "source": [
    "# 6) OOP"
   ]
  },
  {
   "cell_type": "markdown",
   "id": "c2f150e9",
   "metadata": {},
   "source": [
    "Sınıf metotlarındaki parametrelerde bulunan self, sınıfın kendisine referans verir. Self'in metotlara koyulması zorunludur."
   ]
  },
  {
   "cell_type": "code",
   "execution_count": 1,
   "id": "c9609140",
   "metadata": {},
   "outputs": [],
   "source": [
    "class Person():\n",
    "    \n",
    "    #property\n",
    "    name=\"\"\n",
    "    age=0\n",
    "    gender=\"\"\n",
    "    \n",
    "    #initializer\n",
    "    #Her obje olusturuldugunda calisan constructor fonksiyon.\n",
    "    def __init__(self,name,age,gender):\n",
    "        self.name=name\n",
    "        self.age=age\n",
    "        self.gender=gender\n",
    "        "
   ]
  },
  {
   "cell_type": "code",
   "execution_count": 2,
   "id": "ea9e8d6a",
   "metadata": {},
   "outputs": [],
   "source": [
    "p1=Person(\"test\",12,\"male\")\n"
   ]
  },
  {
   "cell_type": "code",
   "execution_count": 3,
   "id": "e2ed0d84",
   "metadata": {},
   "outputs": [
    {
     "data": {
      "text/plain": [
       "__main__.Person"
      ]
     },
     "execution_count": 3,
     "metadata": {},
     "output_type": "execute_result"
    }
   ],
   "source": [
    "type(p1)\n",
    "#p1, Person sinifina bagli bir obje"
   ]
  },
  {
   "cell_type": "code",
   "execution_count": 4,
   "id": "74d62f34",
   "metadata": {},
   "outputs": [
    {
     "data": {
      "text/plain": [
       "'test'"
      ]
     },
     "execution_count": 4,
     "metadata": {},
     "output_type": "execute_result"
    }
   ],
   "source": [
    "p1.name"
   ]
  },
  {
   "cell_type": "markdown",
   "id": "6108a9bc",
   "metadata": {},
   "source": [
    "## 6.1) Inheritance"
   ]
  },
  {
   "cell_type": "markdown",
   "id": "a454ee46",
   "metadata": {},
   "source": [
    "Kalıtım sayesinde, bir sınıfın tüm özelliklerini ve metotları, başka bir sınıfa aktarabiliriz. "
   ]
  },
  {
   "cell_type": "code",
   "execution_count": 5,
   "id": "4c0ee7fd",
   "metadata": {},
   "outputs": [],
   "source": [
    "class ClassA ():\n",
    "    def __init__(self,name):\n",
    "        self.name=name\n",
    "        print(\"Class A!\")\n",
    "    \n",
    "    def test1(self):\n",
    "        print(\"test1\")\n",
    "    \n",
    "    def test2(self):\n",
    "        print(\"test2\")\n",
    "    \n",
    "    def test3(self):\n",
    "        print(\"test3\")\n",
    "    "
   ]
  },
  {
   "cell_type": "markdown",
   "id": "17cc7a03",
   "metadata": {},
   "source": [
    "A sınıfından miras alarak, APlus sınıfını oluşturalım: Hangi sınıftan miras alınacak ise, o sınıfın ismi, parametre olarak yazılır. Miras alınan sınıfın kurucu metodu çağrılır."
   ]
  },
  {
   "cell_type": "code",
   "execution_count": 6,
   "id": "0c863831",
   "metadata": {},
   "outputs": [],
   "source": [
    "class ClassAPlus(ClassA): #ClassA parametre olarak alinir. \n",
    "    def __init__(self,name):\n",
    "        ClassA.__init__(self,name) #ClassA'nin kurucu metodu cagrilir.\n",
    "        print(\"Class A+!\")\n",
    "    \n",
    "    \n",
    "    #override: miras alinan sinifin metodunun uzerine yazildi.\n",
    "    def test2():\n",
    "        print(\"test2 updated\")\n",
    "    \n",
    "    def test4():\n",
    "        print(\"test4\")"
   ]
  },
  {
   "cell_type": "code",
   "execution_count": 7,
   "id": "c5a83bbe",
   "metadata": {},
   "outputs": [
    {
     "name": "stdout",
     "output_type": "stream",
     "text": [
      "Class A!\n",
      "Class A+!\n"
     ]
    }
   ],
   "source": [
    "testAPlus=ClassAPlus(\"testA plus\")"
   ]
  },
  {
   "cell_type": "code",
   "execution_count": 8,
   "id": "c8146ba7",
   "metadata": {},
   "outputs": [
    {
     "name": "stdout",
     "output_type": "stream",
     "text": [
      "test1\n"
     ]
    }
   ],
   "source": [
    "testAPlus.test1() #miras alinan sinifin metoduna erisim"
   ]
  },
  {
   "cell_type": "markdown",
   "id": "35d3e9cc",
   "metadata": {},
   "source": [
    "## 6.2) Polymorphism"
   ]
  },
  {
   "cell_type": "markdown",
   "id": "b32c5713",
   "metadata": {},
   "source": [
    "Py, farklı sınıflarda, aynı isme sahip metotlara izin vermektedir. Mesela aşağıda İki farklı sınıfta, info adında ve farklı işler yapan metot var. Polymorfizm, farklı sınıflarda bulunan, aynı isme sahip ve işlevleri farklı metotların kullanılabilmesidir."
   ]
  },
  {
   "cell_type": "code",
   "execution_count": 9,
   "id": "c2a804ee",
   "metadata": {},
   "outputs": [],
   "source": [
    "class Aaa():\n",
    "    def __init__(self,name):\n",
    "        self.name=name\n",
    "    \n",
    "    def info(self):\n",
    "        return f\"{self.name} equal to 100\"\n",
    "    \n",
    "class Bbb():\n",
    "    def __init__(self,name):\n",
    "        self.name=name\n",
    "    \n",
    "    def info(self):\n",
    "        return f\"{self.name} equal to 150\"   "
   ]
  },
  {
   "cell_type": "code",
   "execution_count": 10,
   "id": "e6f52e4e",
   "metadata": {},
   "outputs": [],
   "source": [
    "valueA=Aaa(\"varA\")\n",
    "valueB=Bbb(\"varB\")"
   ]
  },
  {
   "cell_type": "code",
   "execution_count": 11,
   "id": "5d35b9c6",
   "metadata": {},
   "outputs": [],
   "source": [
    "valueList=[valueA,valueB]\n",
    "#Biri Aaa sinifindan, digeri Bbb sinifindan iki obje ile liste yapiyoruz."
   ]
  },
  {
   "cell_type": "code",
   "execution_count": 12,
   "id": "b19fc77c",
   "metadata": {},
   "outputs": [
    {
     "name": "stdout",
     "output_type": "stream",
     "text": [
      "varA equal to 100\n",
      "varB equal to 150\n"
     ]
    }
   ],
   "source": [
    "for value in valueList:\n",
    "    print(value.info())"
   ]
  },
  {
   "cell_type": "markdown",
   "id": "3e036616",
   "metadata": {},
   "source": [
    "value hem valueA, hem de valueB objelerine ait oluyor ve bu objelerin bulunduğu sınıftaki info() metodunu çalıştırıyor."
   ]
  },
  {
   "cell_type": "markdown",
   "id": "e2c84e78",
   "metadata": {},
   "source": [
    "## 6.3) Encapsulation"
   ]
  },
  {
   "cell_type": "markdown",
   "id": "7e5132b5",
   "metadata": {},
   "source": [
    "Oluşturulan nesnelere/metotlara nasıl erişildiğiyle ilgilidir. Yani metotların, değişkenlerin başka nesnelerden, sınıflardan nasıl saklandığı, ya da başka nesnelerin bu değişkenlere/metotlara erişiminin kısıtlandığı yönteme encapsulation denir.\n",
    "\n",
    "Kapsülleme sayesinde, isteyenmeyen birşekilde değişkenlere veya metotlara erişilme durumu engellenmiş olur."
   ]
  },
  {
   "cell_type": "code",
   "execution_count": 13,
   "id": "1d2a3e8d",
   "metadata": {},
   "outputs": [],
   "source": [
    "class Product():\n",
    "    def __init__(self,name,price):\n",
    "        self.name=name\n",
    "        self.price=price\n",
    "    \n",
    "    def info(self):\n",
    "        print(f\"{self.name} price is: {self.price}\")"
   ]
  },
  {
   "cell_type": "code",
   "execution_count": 14,
   "id": "7a1514cb",
   "metadata": {},
   "outputs": [
    {
     "name": "stdout",
     "output_type": "stream",
     "text": [
      "Product A price is: 100\n"
     ]
    }
   ],
   "source": [
    "product1=Product(\"Product A\",100)\n",
    "product1.info()"
   ]
  },
  {
   "cell_type": "code",
   "execution_count": 15,
   "id": "0a85d07f",
   "metadata": {},
   "outputs": [
    {
     "name": "stdout",
     "output_type": "stream",
     "text": [
      "Product A price is: 150\n"
     ]
    }
   ],
   "source": [
    "#erisim serbest oldugu icin veriyi degistirelim.\n",
    "product1.price=150\n",
    "product1.info()"
   ]
  },
  {
   "cell_type": "markdown",
   "id": "3a979398",
   "metadata": {},
   "source": [
    "Yukarıdaki sınıfa encapsulation uygulayalım: name ve price değişkenlerine erişimi kısıtlayalım. Bunun için iki tane alt çizgi, yani __ kullanılır. İligli ibarelerin başına 2 adet alt çizgi getirilir. Bu iki alt çizgi private'a karşılık gelir. Eğer tek alt çizgi kullanılırsa, protected'a karşılık gelir. Protected üyelere sadece sınıf ve alt sınıf içerisinden erişilebilir."
   ]
  },
  {
   "cell_type": "code",
   "execution_count": 16,
   "id": "eda96c4d",
   "metadata": {},
   "outputs": [],
   "source": [
    "class Product():\n",
    "    def __init__(self,name,price):\n",
    "        self.__name=name\n",
    "        self.__price=price\n",
    "    \n",
    "    def info(self):\n",
    "        print(f\"{self.__name} price is: {self.__price}\")"
   ]
  },
  {
   "cell_type": "code",
   "execution_count": 17,
   "id": "799d0723",
   "metadata": {},
   "outputs": [
    {
     "name": "stdout",
     "output_type": "stream",
     "text": [
      "Product B price is: 200\n"
     ]
    }
   ],
   "source": [
    "#Sinif uyelerine erisim kisitlandi.\n",
    "product1=Product(\"Product B\",200)\n",
    "product1.info()"
   ]
  },
  {
   "cell_type": "code",
   "execution_count": 18,
   "id": "aa0f73f6",
   "metadata": {},
   "outputs": [
    {
     "name": "stdout",
     "output_type": "stream",
     "text": [
      "Product B price is: 200\n"
     ]
    }
   ],
   "source": [
    "#urun fiyatini degistirmeyi deneyelim.\n",
    "#goruldugu uzere urunun fiyati degismiyor.\n",
    "product1.name=100\n",
    "product1.info()"
   ]
  },
  {
   "cell_type": "code",
   "execution_count": 19,
   "id": "2a3f00e6",
   "metadata": {},
   "outputs": [],
   "source": [
    "#Eger kontrollu bir sekilde urunun fiyatinin degistirilmesini istiyorsak\n",
    "# ilgili sinifin icine metot ekleyerek, bu metot uzerinden degiskenin \n",
    "#degismesini saglayabiliriz.\n",
    "\n",
    "class Product():\n",
    "    def __init__(self,name,price):\n",
    "        self.__name=name\n",
    "        self.__price=price\n",
    "    \n",
    "    def info(self):\n",
    "        print(f\"{self.__name} price is: {self.__price}\")\n",
    "        \n",
    "    def changePrice(self,price):\n",
    "        self.__price=price\n",
    "        "
   ]
  },
  {
   "cell_type": "code",
   "execution_count": 20,
   "id": "f6023b02",
   "metadata": {},
   "outputs": [
    {
     "name": "stdout",
     "output_type": "stream",
     "text": [
      "Product B price is: 200\n"
     ]
    }
   ],
   "source": [
    "product1=Product(\"Product B\",200)\n",
    "product1.info()"
   ]
  },
  {
   "cell_type": "code",
   "execution_count": 21,
   "id": "0fee7f33",
   "metadata": {},
   "outputs": [
    {
     "name": "stdout",
     "output_type": "stream",
     "text": [
      "Product B price is: 500\n"
     ]
    }
   ],
   "source": [
    "#urunun fiyatini degistirelim:\n",
    "product1.changePrice(500)\n",
    "product1.info()"
   ]
  },
  {
   "cell_type": "markdown",
   "id": "610fb21a",
   "metadata": {},
   "source": [
    "Görüldüğü üzere, metot üzerinden ürünün fiyatını değiştirdik. "
   ]
  },
  {
   "cell_type": "markdown",
   "id": "376540f4",
   "metadata": {},
   "source": [
    "## 6.4) Abstraction"
   ]
  },
  {
   "cell_type": "markdown",
   "id": "20ab0c44",
   "metadata": {},
   "source": [
    "Soyut bir sınıf oluştururuz ve bu sınıfın kendisini kullanmayız, lakin sınıfın yapısını kullanırız. Soyut sınıflar içerisinde en az bir tane soyut sınıf barındırırlar. \n",
    "\n",
    "Soyut sınıf, örneğin binaYap() adında soyut sınıfımız olsun. Bu sınıfın kendisi var fakat gövdesi yok, yani binanın nasıl yapılacağına dair bir işlevi yok. Sadece isim olarak var. binaYap() fonksiyonu implemente edilmemiş bir metottur.\n",
    "\n",
    "Bu şu işe yarar, birisi bu soyut sınıftan miras alarak bir sınıf oluşturduğunda, soyut metotları ezerek kendi metodunu yazabilsin. Mesela binaYap() metodunu ezerek implemente etsin. Böylece proje esnekliği sağlanmış olur.  \n",
    "\n",
    "Buradan şunu anlıyoruz, soyut sınıflar alt sınıflara ihtiyaç duyarlar ve miras alınması gerekir."
   ]
  },
  {
   "cell_type": "code",
   "execution_count": 22,
   "id": "4032cd1b",
   "metadata": {},
   "outputs": [],
   "source": [
    "#Py'de dogrudan abstraction saglayan keyword yok.\n",
    "#Bunun icin bir modul olusturulmustur.\n",
    "from abc import ABC, abstractmethod\n",
    "\n",
    "class Car(ABC):\n",
    "    \n",
    "    @abstractmethod\n",
    "    def maxSpeed(self):\n",
    "        pass\n",
    "        \n"
   ]
  },
  {
   "cell_type": "markdown",
   "id": "be3f84a1",
   "metadata": {},
   "source": [
    "soyut sınıftan obje oluşturamayız. Amacımız bir şablon ortaya koymak. Soyut sınıftan kalıtım alarak Tesla adında bir alt sınıf oluşturalım:"
   ]
  },
  {
   "cell_type": "code",
   "execution_count": 23,
   "id": "0277cbe9",
   "metadata": {},
   "outputs": [],
   "source": [
    "class Tesla(Car):\n",
    "    \n",
    "    def maxSpeed(self):\n",
    "        print(\"350 km\")\n",
    "    \n",
    "\n",
    "#Car sınıfını kullanan her alt sınıf, \n",
    "#Car sınıfındaki soyut sınıfları kullanmak zorundadır.\n",
    "    "
   ]
  },
  {
   "cell_type": "code",
   "execution_count": 24,
   "id": "694c1da4",
   "metadata": {},
   "outputs": [
    {
     "name": "stdout",
     "output_type": "stream",
     "text": [
      "350 km\n"
     ]
    }
   ],
   "source": [
    "carTesla=Tesla()\n",
    "carTesla.maxSpeed()"
   ]
  },
  {
   "cell_type": "code",
   "execution_count": 25,
   "id": "012e9236",
   "metadata": {},
   "outputs": [],
   "source": [
    "class Mercedes(Car):\n",
    "    def maxSpeed(self):\n",
    "        print(\"250 km\")"
   ]
  },
  {
   "cell_type": "code",
   "execution_count": 26,
   "id": "7bb5300c",
   "metadata": {},
   "outputs": [
    {
     "name": "stdout",
     "output_type": "stream",
     "text": [
      "250 km\n"
     ]
    }
   ],
   "source": [
    "carMercedes=Mercedes()\n",
    "carMercedes.maxSpeed()"
   ]
  },
  {
   "cell_type": "markdown",
   "id": "4dcce973",
   "metadata": {},
   "source": [
    "## 6.5) Özel Metotlar"
   ]
  },
  {
   "cell_type": "code",
   "execution_count": 27,
   "id": "1dcc48cf",
   "metadata": {},
   "outputs": [],
   "source": [
    "# Ozel metotlar duruma gore kullanisli olabilir, detay icin google.\n",
    "class Train():\n",
    "    def __init__(self,name):\n",
    "        self.name=name\n",
    "    def __getitem__(self,key):\n",
    "        if key==\"a\":\n",
    "            return self.name\n",
    "        else:\n",
    "            return 0"
   ]
  },
  {
   "cell_type": "code",
   "execution_count": 28,
   "id": "f4aa5995",
   "metadata": {},
   "outputs": [
    {
     "data": {
      "text/plain": [
       "'my train'"
      ]
     },
     "execution_count": 28,
     "metadata": {},
     "output_type": "execute_result"
    }
   ],
   "source": [
    "myTrain=Train(\"my train\")\n",
    "myTrain[\"a\"]"
   ]
  },
  {
   "cell_type": "code",
   "execution_count": 29,
   "id": "992d15fa",
   "metadata": {},
   "outputs": [
    {
     "data": {
      "text/plain": [
       "0"
      ]
     },
     "execution_count": 29,
     "metadata": {},
     "output_type": "execute_result"
    }
   ],
   "source": [
    "myTrain[\"b\"]"
   ]
  },
  {
   "cell_type": "code",
   "execution_count": null,
   "id": "91f0e6d8",
   "metadata": {},
   "outputs": [],
   "source": []
  }
 ],
 "metadata": {
  "kernelspec": {
   "display_name": "Python 3 (ipykernel)",
   "language": "python",
   "name": "python3"
  },
  "language_info": {
   "codemirror_mode": {
    "name": "ipython",
    "version": 3
   },
   "file_extension": ".py",
   "mimetype": "text/x-python",
   "name": "python",
   "nbconvert_exporter": "python",
   "pygments_lexer": "ipython3",
   "version": "3.9.13"
  }
 },
 "nbformat": 4,
 "nbformat_minor": 5
}
