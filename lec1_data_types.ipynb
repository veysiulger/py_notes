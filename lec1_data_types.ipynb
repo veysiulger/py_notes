{
 "cells": [
  {
   "cell_type": "markdown",
   "id": "4087fbbb",
   "metadata": {},
   "source": [
    "# 1) VERİ TİPLERİ VE VERİ YAPILARI"
   ]
  },
  {
   "cell_type": "markdown",
   "id": "ed2ff1a3",
   "metadata": {},
   "source": [
    "Bir verinin tipini öğrenmek için type() fonksiyonu kullanılır. "
   ]
  },
  {
   "cell_type": "code",
   "execution_count": 1,
   "id": "31fae4b9",
   "metadata": {},
   "outputs": [],
   "source": [
    "a=12;\n",
    "b=3.14;\n",
    "c=\"test\";"
   ]
  },
  {
   "cell_type": "code",
   "execution_count": 2,
   "id": "ffd181e6",
   "metadata": {},
   "outputs": [
    {
     "data": {
      "text/plain": [
       "int"
      ]
     },
     "execution_count": 2,
     "metadata": {},
     "output_type": "execute_result"
    }
   ],
   "source": [
    "type(a)"
   ]
  },
  {
   "cell_type": "code",
   "execution_count": 3,
   "id": "58c7afd7",
   "metadata": {},
   "outputs": [
    {
     "data": {
      "text/plain": [
       "float"
      ]
     },
     "execution_count": 3,
     "metadata": {},
     "output_type": "execute_result"
    }
   ],
   "source": [
    "type(b)"
   ]
  },
  {
   "cell_type": "code",
   "execution_count": 4,
   "id": "1f0bf3e4",
   "metadata": {},
   "outputs": [
    {
     "data": {
      "text/plain": [
       "str"
      ]
     },
     "execution_count": 4,
     "metadata": {},
     "output_type": "execute_result"
    }
   ],
   "source": [
    "type(c)"
   ]
  },
  {
   "cell_type": "markdown",
   "id": "55877f48",
   "metadata": {},
   "source": [
    "## 1.1) Integer"
   ]
  },
  {
   "cell_type": "markdown",
   "id": "c1df68c4",
   "metadata": {},
   "source": [
    "Bir sayının sonuna nokta koyulmadığı takdirde, tamsayı olarak yorumlanır. İşleme alınan 2 sayı integer ise, bölme dışındaki diğer toplama, çıkarma, çarpma işlemlerinde sonuç integer olarak yorumlanır."
   ]
  },
  {
   "cell_type": "code",
   "execution_count": 5,
   "id": "d27d2541",
   "metadata": {},
   "outputs": [],
   "source": [
    "intA=12;\n",
    "intB=3;"
   ]
  },
  {
   "cell_type": "code",
   "execution_count": 6,
   "id": "9e4e1b61",
   "metadata": {},
   "outputs": [
    {
     "data": {
      "text/plain": [
       "int"
      ]
     },
     "execution_count": 6,
     "metadata": {},
     "output_type": "execute_result"
    }
   ],
   "source": [
    "type(intA+intB)"
   ]
  },
  {
   "cell_type": "code",
   "execution_count": 7,
   "id": "c8960179",
   "metadata": {},
   "outputs": [
    {
     "data": {
      "text/plain": [
       "int"
      ]
     },
     "execution_count": 7,
     "metadata": {},
     "output_type": "execute_result"
    }
   ],
   "source": [
    "type(intA-intB)"
   ]
  },
  {
   "cell_type": "code",
   "execution_count": 8,
   "id": "3f2d3cef",
   "metadata": {},
   "outputs": [
    {
     "data": {
      "text/plain": [
       "int"
      ]
     },
     "execution_count": 8,
     "metadata": {},
     "output_type": "execute_result"
    }
   ],
   "source": [
    "type(intA*intB)"
   ]
  },
  {
   "cell_type": "code",
   "execution_count": 9,
   "id": "efdf1e55",
   "metadata": {},
   "outputs": [
    {
     "data": {
      "text/plain": [
       "float"
      ]
     },
     "execution_count": 9,
     "metadata": {},
     "output_type": "execute_result"
    }
   ],
   "source": [
    "type(intA/intB)"
   ]
  },
  {
   "cell_type": "markdown",
   "id": "4fc1cd81",
   "metadata": {},
   "source": [
    "## 1.2) Float"
   ]
  },
  {
   "cell_type": "markdown",
   "id": "a6cb5636",
   "metadata": {},
   "source": [
    "Eğer bir sayı ondalıklı olarak yazılmışsa, float olarak işleme alınır.\n",
    "Bölen ve bölünen integer olsa dahi, py'de bölüm sonucu her zaman float olarak belirlenmiştir."
   ]
  },
  {
   "cell_type": "code",
   "execution_count": 10,
   "id": "2964a3c2",
   "metadata": {},
   "outputs": [],
   "source": [
    "result=12/3"
   ]
  },
  {
   "cell_type": "code",
   "execution_count": 11,
   "id": "ad4f974e",
   "metadata": {},
   "outputs": [
    {
     "data": {
      "text/plain": [
       "float"
      ]
     },
     "execution_count": 11,
     "metadata": {},
     "output_type": "execute_result"
    }
   ],
   "source": [
    "type(result)"
   ]
  },
  {
   "cell_type": "markdown",
   "id": "757c2146",
   "metadata": {},
   "source": [
    "İşleme alınan sayılardan birinin float olması halinde, sonuç her zaman float olarak yorumlanır."
   ]
  },
  {
   "cell_type": "code",
   "execution_count": 12,
   "id": "5cf9eb8b",
   "metadata": {},
   "outputs": [
    {
     "data": {
      "text/plain": [
       "float"
      ]
     },
     "execution_count": 12,
     "metadata": {},
     "output_type": "execute_result"
    }
   ],
   "source": [
    "type(3.0-1)"
   ]
  },
  {
   "cell_type": "code",
   "execution_count": 13,
   "id": "16dacf11",
   "metadata": {},
   "outputs": [
    {
     "data": {
      "text/plain": [
       "float"
      ]
     },
     "execution_count": 13,
     "metadata": {},
     "output_type": "execute_result"
    }
   ],
   "source": [
    "type(12.15+0.15)"
   ]
  },
  {
   "cell_type": "markdown",
   "id": "7f4f6944",
   "metadata": {},
   "source": [
    "## 1.3) String"
   ]
  },
  {
   "cell_type": "markdown",
   "id": "4ecf5cf2",
   "metadata": {},
   "source": [
    "Metinsel veya sayısal ifadeler çitf tırnak (\"\") veya tek tırnak ('') içerisinde yazılırsa string olarak yorumlanır."
   ]
  },
  {
   "cell_type": "code",
   "execution_count": 14,
   "id": "99bd5bb7",
   "metadata": {},
   "outputs": [],
   "source": [
    "strA=\"lorem ipsum dolor\"\n",
    "strB=\"123\""
   ]
  },
  {
   "cell_type": "code",
   "execution_count": 15,
   "id": "863da56c",
   "metadata": {},
   "outputs": [
    {
     "data": {
      "text/plain": [
       "str"
      ]
     },
     "execution_count": 15,
     "metadata": {},
     "output_type": "execute_result"
    }
   ],
   "source": [
    "type(strA)"
   ]
  },
  {
   "cell_type": "code",
   "execution_count": 16,
   "id": "5ae5af35",
   "metadata": {},
   "outputs": [
    {
     "data": {
      "text/plain": [
       "str"
      ]
     },
     "execution_count": 16,
     "metadata": {},
     "output_type": "execute_result"
    }
   ],
   "source": [
    "type(strB)"
   ]
  },
  {
   "cell_type": "code",
   "execution_count": 17,
   "id": "21597c8c",
   "metadata": {},
   "outputs": [
    {
     "name": "stdout",
     "output_type": "stream",
     "text": [
      "lorem ipsum dolor\n"
     ]
    }
   ],
   "source": [
    "print(strA)"
   ]
  },
  {
   "cell_type": "markdown",
   "id": "58a96e3e",
   "metadata": {},
   "source": [
    "string metotları: Eğer bir metotdun nasıl kullanılacağını öğrenmek istiyorsak,\n",
    "help metodunu kullanırız."
   ]
  },
  {
   "cell_type": "code",
   "execution_count": 18,
   "id": "15919503",
   "metadata": {},
   "outputs": [
    {
     "name": "stdout",
     "output_type": "stream",
     "text": [
      "Help on built-in function count:\n",
      "\n",
      "count(...) method of builtins.str instance\n",
      "    S.count(sub[, start[, end]]) -> int\n",
      "    \n",
      "    Return the number of non-overlapping occurrences of substring sub in\n",
      "    string S[start:end].  Optional arguments start and end are\n",
      "    interpreted as in slice notation.\n",
      "\n"
     ]
    }
   ],
   "source": [
    "help(strA.count)"
   ]
  },
  {
   "cell_type": "code",
   "execution_count": 19,
   "id": "77f092f0",
   "metadata": {},
   "outputs": [
    {
     "data": {
      "text/plain": [
       "3"
      ]
     },
     "execution_count": 19,
     "metadata": {},
     "output_type": "execute_result"
    }
   ],
   "source": [
    "strA.count(\"o\")"
   ]
  },
  {
   "cell_type": "code",
   "execution_count": 20,
   "id": "3276426f",
   "metadata": {},
   "outputs": [
    {
     "data": {
      "text/plain": [
       "['lorem', 'ipsum', 'dolor']"
      ]
     },
     "execution_count": 20,
     "metadata": {},
     "output_type": "execute_result"
    }
   ],
   "source": [
    "strA.split()"
   ]
  },
  {
   "cell_type": "code",
   "execution_count": 21,
   "id": "be97da8c",
   "metadata": {},
   "outputs": [
    {
     "data": {
      "text/plain": [
       "list"
      ]
     },
     "execution_count": 21,
     "metadata": {},
     "output_type": "execute_result"
    }
   ],
   "source": [
    "type(strA.split())"
   ]
  },
  {
   "cell_type": "markdown",
   "id": "2ca12c41",
   "metadata": {},
   "source": [
    "### Indeks"
   ]
  },
  {
   "cell_type": "markdown",
   "id": "12e90cca",
   "metadata": {},
   "source": [
    "Index mantığı bir çok programlama dilinde olduğu gibidir. [0] ilk elemanı verirken, [-1] son elemanı verir. Böylece sondan kaçıncıyı görmek istiyorsak eksi olarak sıfırdan geriye doğru yazarız."
   ]
  },
  {
   "cell_type": "code",
   "execution_count": 22,
   "id": "17973280",
   "metadata": {},
   "outputs": [],
   "source": [
    "strA=\"lorem ipsum dolor\"\n",
    "strB=\"123\""
   ]
  },
  {
   "cell_type": "code",
   "execution_count": 23,
   "id": "af68eff7",
   "metadata": {},
   "outputs": [
    {
     "data": {
      "text/plain": [
       "'e'"
      ]
     },
     "execution_count": 23,
     "metadata": {},
     "output_type": "execute_result"
    }
   ],
   "source": [
    "strA[3]"
   ]
  },
  {
   "cell_type": "code",
   "execution_count": 24,
   "id": "8d50268c",
   "metadata": {},
   "outputs": [
    {
     "data": {
      "text/plain": [
       "'1'"
      ]
     },
     "execution_count": 24,
     "metadata": {},
     "output_type": "execute_result"
    }
   ],
   "source": [
    "strB[0]"
   ]
  },
  {
   "cell_type": "code",
   "execution_count": 25,
   "id": "cf9bb488",
   "metadata": {},
   "outputs": [
    {
     "data": {
      "text/plain": [
       "'r'"
      ]
     },
     "execution_count": 25,
     "metadata": {},
     "output_type": "execute_result"
    }
   ],
   "source": [
    "strA[len(strA)-1]"
   ]
  },
  {
   "cell_type": "code",
   "execution_count": 26,
   "id": "c37cad60",
   "metadata": {},
   "outputs": [
    {
     "data": {
      "text/plain": [
       "'r'"
      ]
     },
     "execution_count": 26,
     "metadata": {},
     "output_type": "execute_result"
    }
   ],
   "source": [
    "strA[-1] # sonuncu elemanı verir."
   ]
  },
  {
   "cell_type": "code",
   "execution_count": 27,
   "id": "edb5d055",
   "metadata": {},
   "outputs": [
    {
     "data": {
      "text/plain": [
       "'l'"
      ]
     },
     "execution_count": 27,
     "metadata": {},
     "output_type": "execute_result"
    }
   ],
   "source": [
    "strA[-3] # sondan ikinci elemanı verir."
   ]
  },
  {
   "cell_type": "markdown",
   "id": "8112dc81",
   "metadata": {},
   "source": [
    "String'in belirli bir indexindeki bir veriyi değiştirmek, hata ile sonuçlanır. Str objeleri, tek bir elemanının değiştirilmesini desteklemez. Buna immutable özelliği denir. Lakin objenin tuttuğu değer değiştirilebilirdir."
   ]
  },
  {
   "cell_type": "code",
   "execution_count": 28,
   "id": "1d36faa0",
   "metadata": {},
   "outputs": [
    {
     "name": "stdout",
     "output_type": "stream",
     "text": [
      "test 2\n"
     ]
    }
   ],
   "source": [
    "#strB[2]=\"k\"   //hatalidir.\n",
    "strB=\"test 2\"\n",
    "print(strB)"
   ]
  },
  {
   "cell_type": "markdown",
   "id": "bede4c29",
   "metadata": {},
   "source": [
    "### Str Toplama ve Çarpma"
   ]
  },
  {
   "cell_type": "markdown",
   "id": "5c4b3ffa",
   "metadata": {},
   "source": [
    "Stringlerde toplama yapmak, iki ifadeyi birleştirmektir. İki string ifade bu şekilde toplanabilir. Ama bir int ile stringi toplayamayız. Örneğin;"
   ]
  },
  {
   "cell_type": "code",
   "execution_count": 29,
   "id": "59c82f72",
   "metadata": {},
   "outputs": [],
   "source": [
    "strA=\"lorem ipsum dolor\"\n",
    "strB=\"123\""
   ]
  },
  {
   "cell_type": "code",
   "execution_count": 30,
   "id": "c3fb2717",
   "metadata": {},
   "outputs": [
    {
     "data": {
      "text/plain": [
       "'lorem ipsum dolor123'"
      ]
     },
     "execution_count": 30,
     "metadata": {},
     "output_type": "execute_result"
    }
   ],
   "source": [
    "strA+strB"
   ]
  },
  {
   "cell_type": "code",
   "execution_count": 31,
   "id": "62dc88cd",
   "metadata": {},
   "outputs": [],
   "source": [
    "# strA+4 bu islem hatalidir."
   ]
  },
  {
   "cell_type": "markdown",
   "id": "bbbb0fff",
   "metadata": {},
   "source": [
    "Stringleri, integer bir sayı ile çarpabiliriz. Ama float ile çarpamayız."
   ]
  },
  {
   "cell_type": "code",
   "execution_count": 32,
   "id": "4b50d107",
   "metadata": {},
   "outputs": [
    {
     "data": {
      "text/plain": [
       "'lorem ipsum dolorlorem ipsum dolorlorem ipsum dolorlorem ipsum dolorlorem ipsum dolor'"
      ]
     },
     "execution_count": 32,
     "metadata": {},
     "output_type": "execute_result"
    }
   ],
   "source": [
    "strA*5 # 5 tane strA yazar."
   ]
  },
  {
   "cell_type": "markdown",
   "id": "9f0ab426",
   "metadata": {},
   "source": [
    "### Slicing"
   ]
  },
  {
   "cell_type": "markdown",
   "id": "d528adf9",
   "metadata": {},
   "source": [
    "String metni dilimlere ayırmak için slicing işlemi yapılır."
   ]
  },
  {
   "cell_type": "code",
   "execution_count": 33,
   "id": "ef30bb8e",
   "metadata": {},
   "outputs": [],
   "source": [
    "strA=\"lorem ipsum dolor\""
   ]
  },
  {
   "cell_type": "code",
   "execution_count": 34,
   "id": "34127038",
   "metadata": {},
   "outputs": [],
   "source": [
    "#strA[staring index:stopping index:stepping size]"
   ]
  },
  {
   "cell_type": "code",
   "execution_count": 35,
   "id": "7f29b86d",
   "metadata": {},
   "outputs": [
    {
     "data": {
      "text/plain": [
       "'rem'"
      ]
     },
     "execution_count": 35,
     "metadata": {},
     "output_type": "execute_result"
    }
   ],
   "source": [
    "strA[2:5:1]"
   ]
  },
  {
   "cell_type": "code",
   "execution_count": 36,
   "id": "52dbf287",
   "metadata": {},
   "outputs": [
    {
     "data": {
      "text/plain": [
       "'em ipsum dolor'"
      ]
     },
     "execution_count": 36,
     "metadata": {},
     "output_type": "execute_result"
    }
   ],
   "source": [
    "strA[3::]"
   ]
  },
  {
   "cell_type": "code",
   "execution_count": 37,
   "id": "9974c3e4",
   "metadata": {},
   "outputs": [
    {
     "data": {
      "text/plain": [
       "'lrmismdlr'"
      ]
     },
     "execution_count": 37,
     "metadata": {},
     "output_type": "execute_result"
    }
   ],
   "source": [
    "strA[::2]\n"
   ]
  },
  {
   "cell_type": "code",
   "execution_count": 38,
   "id": "a557e3b3",
   "metadata": {},
   "outputs": [
    {
     "data": {
      "text/plain": [
       "'lore'"
      ]
     },
     "execution_count": 38,
     "metadata": {},
     "output_type": "execute_result"
    }
   ],
   "source": [
    "strA[:4:]"
   ]
  },
  {
   "cell_type": "markdown",
   "id": "c6d06547",
   "metadata": {},
   "source": [
    "### Input Fonksiyonu"
   ]
  },
  {
   "cell_type": "markdown",
   "id": "34578880",
   "metadata": {},
   "source": [
    "Kullanıcıdan girilen veriler, string olarak işlenir."
   ]
  },
  {
   "cell_type": "code",
   "execution_count": 39,
   "id": "771bfb67",
   "metadata": {},
   "outputs": [
    {
     "name": "stdout",
     "output_type": "stream",
     "text": [
      "veri giriniz:32\n",
      "32\n"
     ]
    },
    {
     "data": {
      "text/plain": [
       "str"
      ]
     },
     "execution_count": 39,
     "metadata": {},
     "output_type": "execute_result"
    }
   ],
   "source": [
    "data=input(\"veri giriniz:\")\n",
    "print(data)\n",
    "type(data) "
   ]
  },
  {
   "cell_type": "markdown",
   "id": "8011be9e",
   "metadata": {},
   "source": [
    "## 1.4) Listeler"
   ]
  },
  {
   "cell_type": "markdown",
   "id": "d4e0ff6e",
   "metadata": {},
   "source": [
    "Listeler bir veri tipi değil, veri yapısıdır. İçinde birden fazla veri tutar. liste oluşturmak için [ ] kullanılır. "
   ]
  },
  {
   "cell_type": "code",
   "execution_count": 40,
   "id": "df4ee81d",
   "metadata": {},
   "outputs": [],
   "source": [
    "myList=[2,4,5]"
   ]
  },
  {
   "cell_type": "code",
   "execution_count": 41,
   "id": "b3304376",
   "metadata": {},
   "outputs": [
    {
     "data": {
      "text/plain": [
       "list"
      ]
     },
     "execution_count": 41,
     "metadata": {},
     "output_type": "execute_result"
    }
   ],
   "source": [
    "type(myList)"
   ]
  },
  {
   "cell_type": "markdown",
   "id": "e274b7f5",
   "metadata": {},
   "source": [
    "Listenin elemanına ulaşmak ve listenin boyutunu ölçmek;"
   ]
  },
  {
   "cell_type": "code",
   "execution_count": 42,
   "id": "4e3c2d08",
   "metadata": {},
   "outputs": [
    {
     "data": {
      "text/plain": [
       "5"
      ]
     },
     "execution_count": 42,
     "metadata": {},
     "output_type": "execute_result"
    }
   ],
   "source": [
    "myList[2]"
   ]
  },
  {
   "cell_type": "code",
   "execution_count": 43,
   "id": "bfe4afbc",
   "metadata": {},
   "outputs": [
    {
     "data": {
      "text/plain": [
       "3"
      ]
     },
     "execution_count": 43,
     "metadata": {},
     "output_type": "execute_result"
    }
   ],
   "source": [
    "len(myList)"
   ]
  },
  {
   "cell_type": "markdown",
   "id": "5f7d73c2",
   "metadata": {},
   "source": [
    "Listenin sondan elemanlarına erişmek için;"
   ]
  },
  {
   "cell_type": "code",
   "execution_count": 44,
   "id": "de1dd30a",
   "metadata": {},
   "outputs": [
    {
     "data": {
      "text/plain": [
       "5"
      ]
     },
     "execution_count": 44,
     "metadata": {},
     "output_type": "execute_result"
    }
   ],
   "source": [
    "myList[-1]"
   ]
  },
  {
   "cell_type": "markdown",
   "id": "fb634dcf",
   "metadata": {},
   "source": [
    "Listeler mutable'dır. yani elemanları değiştirilebilir. Listenin elemanını değiştirmek için;"
   ]
  },
  {
   "cell_type": "code",
   "execution_count": 45,
   "id": "4dbfb140",
   "metadata": {},
   "outputs": [
    {
     "data": {
      "text/plain": [
       "100"
      ]
     },
     "execution_count": 45,
     "metadata": {},
     "output_type": "execute_result"
    }
   ],
   "source": [
    "myList[2]=100\n",
    "myList[2]"
   ]
  },
  {
   "cell_type": "markdown",
   "id": "08553563",
   "metadata": {},
   "source": [
    "Listeye eleman ekleme:"
   ]
  },
  {
   "cell_type": "code",
   "execution_count": 46,
   "id": "e6484463",
   "metadata": {},
   "outputs": [
    {
     "name": "stdout",
     "output_type": "stream",
     "text": [
      "[2, 4, 100, 12, 15, 'test']\n"
     ]
    }
   ],
   "source": [
    "x=12\n",
    "y=15\n",
    "z=\"test\"\n",
    "myList.append(x)\n",
    "myList.append(y)\n",
    "myList.append(z)\n",
    "print(myList)"
   ]
  },
  {
   "cell_type": "markdown",
   "id": "05a7ab75",
   "metadata": {},
   "source": [
    "Boş liste oluşturmak için;"
   ]
  },
  {
   "cell_type": "code",
   "execution_count": 47,
   "id": "ae696bc7",
   "metadata": {},
   "outputs": [
    {
     "data": {
      "text/plain": [
       "list"
      ]
     },
     "execution_count": 47,
     "metadata": {},
     "output_type": "execute_result"
    }
   ],
   "source": [
    "# Bos liste olusturmak icin;\n",
    "emptyMyList=list()\n",
    "type(emptyMyList)"
   ]
  },
  {
   "cell_type": "markdown",
   "id": "6c5ac19a",
   "metadata": {},
   "source": [
    "### Listelerde Toplama ve çarpma"
   ]
  },
  {
   "cell_type": "markdown",
   "id": "7985f920",
   "metadata": {},
   "source": [
    "Listelerde toplama işlemi, listeleri birleştirme olarak yorumlanır. Ayrıca, bir listeyi integer bir sayı ile çarpmak, listenin o sayı kadar tekrarlanmasını sağlar."
   ]
  },
  {
   "cell_type": "code",
   "execution_count": 48,
   "id": "df0bdcd0",
   "metadata": {},
   "outputs": [
    {
     "name": "stdout",
     "output_type": "stream",
     "text": [
      "[1, 2, 3, 4, 5, 6, 'lorem']\n"
     ]
    }
   ],
   "source": [
    "list1=[1,2,3]\n",
    "list2=[4,5,6,\"lorem\"]\n",
    "list3=list1+list2\n",
    "print(list3)"
   ]
  },
  {
   "cell_type": "code",
   "execution_count": 49,
   "id": "8b81dbca",
   "metadata": {},
   "outputs": [
    {
     "data": {
      "text/plain": [
       "[1, 2, 3, 1, 2, 3, 1, 2, 3, 1, 2, 3]"
      ]
     },
     "execution_count": 49,
     "metadata": {},
     "output_type": "execute_result"
    }
   ],
   "source": [
    "list1*4"
   ]
  },
  {
   "cell_type": "markdown",
   "id": "df874812",
   "metadata": {},
   "source": [
    "### Nested List"
   ]
  },
  {
   "cell_type": "markdown",
   "id": "d89c805e",
   "metadata": {},
   "source": [
    "Liste içinde liste oluşturabiliriz."
   ]
  },
  {
   "cell_type": "code",
   "execution_count": 50,
   "id": "f3be69d0",
   "metadata": {},
   "outputs": [
    {
     "data": {
      "text/plain": [
       "['test1', 10, 20, 30, 'test2']"
      ]
     },
     "execution_count": 50,
     "metadata": {},
     "output_type": "execute_result"
    }
   ],
   "source": [
    "nestedList=[1,2,3,4.7,[\"test1\",10,20,30,\"test2\"],\"test3\"]\n",
    "nestedList[4]"
   ]
  },
  {
   "cell_type": "code",
   "execution_count": 51,
   "id": "cbfc96a6",
   "metadata": {},
   "outputs": [
    {
     "data": {
      "text/plain": [
       "30"
      ]
     },
     "execution_count": 51,
     "metadata": {},
     "output_type": "execute_result"
    }
   ],
   "source": [
    "nestedList[4][3]"
   ]
  },
  {
   "cell_type": "markdown",
   "id": "7323abd8",
   "metadata": {},
   "source": [
    "### Slicing İşlemi"
   ]
  },
  {
   "cell_type": "markdown",
   "id": "f1dc1644",
   "metadata": {},
   "source": [
    "Slicing işlemi, stringlerde olduğu gibi listelerde de uygulanabilir."
   ]
  },
  {
   "cell_type": "code",
   "execution_count": 52,
   "id": "1106af76",
   "metadata": {},
   "outputs": [
    {
     "data": {
      "text/plain": [
       "[['test1', 10, 20, 30, 'test2'], 'test3']"
      ]
     },
     "execution_count": 52,
     "metadata": {},
     "output_type": "execute_result"
    }
   ],
   "source": [
    "nestedList=[1,2,3,4.7,[\"test1\",10,20,30,\"test2\"],\"test3\"]\n",
    "nestedList[4::]"
   ]
  },
  {
   "cell_type": "markdown",
   "id": "ea2eb85c",
   "metadata": {},
   "source": [
    "## 1.5) Veri Tiplerini Dönüştürme"
   ]
  },
  {
   "cell_type": "markdown",
   "id": "e00e46c0",
   "metadata": {},
   "source": [
    "Bir veri tipini başka bir tipe dönüştürebiliriz. Bunun için, str( ) içerisine dönüştürülecek tür yazılır. Yani;"
   ]
  },
  {
   "cell_type": "code",
   "execution_count": 53,
   "id": "d4fa3cc4",
   "metadata": {},
   "outputs": [
    {
     "data": {
      "text/plain": [
       "str"
      ]
     },
     "execution_count": 53,
     "metadata": {},
     "output_type": "execute_result"
    }
   ],
   "source": [
    "dataInt=12\n",
    "dataStr=str(dataInt)\n",
    "type(dataStr)"
   ]
  },
  {
   "cell_type": "code",
   "execution_count": 54,
   "id": "0fc715d4",
   "metadata": {},
   "outputs": [
    {
     "data": {
      "text/plain": [
       "int"
      ]
     },
     "execution_count": 54,
     "metadata": {},
     "output_type": "execute_result"
    }
   ],
   "source": [
    "data1=\"122\"\n",
    "data2=int(data1)\n",
    "type(data2)"
   ]
  },
  {
   "cell_type": "markdown",
   "id": "d69797cf",
   "metadata": {},
   "source": [
    "## 1.6) Dictionary Yapısı"
   ]
  },
  {
   "cell_type": "markdown",
   "id": "fdc8adc4",
   "metadata": {},
   "source": [
    "key-value eşleşmesiyle verilerin tutulduğu bir veri yapısıdır. Süslü parantezler { } ile tanımlanır."
   ]
  },
  {
   "cell_type": "code",
   "execution_count": 55,
   "id": "122dda7f",
   "metadata": {},
   "outputs": [],
   "source": [
    "valueDictionary={\"a\":100, \"b\":90,\"c\":80}"
   ]
  },
  {
   "cell_type": "code",
   "execution_count": 56,
   "id": "1be30554",
   "metadata": {},
   "outputs": [
    {
     "data": {
      "text/plain": [
       "90"
      ]
     },
     "execution_count": 56,
     "metadata": {},
     "output_type": "execute_result"
    }
   ],
   "source": [
    "valueDictionary[\"b\"]"
   ]
  },
  {
   "cell_type": "code",
   "execution_count": 57,
   "id": "dd032031",
   "metadata": {},
   "outputs": [
    {
     "data": {
      "text/plain": [
       "dict"
      ]
     },
     "execution_count": 57,
     "metadata": {},
     "output_type": "execute_result"
    }
   ],
   "source": [
    "type(valueDictionary)"
   ]
  },
  {
   "cell_type": "markdown",
   "id": "c0e83479",
   "metadata": {},
   "source": [
    "Bazı sözlük metotları;"
   ]
  },
  {
   "cell_type": "code",
   "execution_count": 58,
   "id": "e6af45aa",
   "metadata": {},
   "outputs": [
    {
     "data": {
      "text/plain": [
       "dict_values([100, 90, 80])"
      ]
     },
     "execution_count": 58,
     "metadata": {},
     "output_type": "execute_result"
    }
   ],
   "source": [
    "valueDictionary.values()   # sadece degerleri getirir."
   ]
  },
  {
   "cell_type": "code",
   "execution_count": 59,
   "id": "d82817a9",
   "metadata": {},
   "outputs": [
    {
     "data": {
      "text/plain": [
       "[100, 90, 80]"
      ]
     },
     "execution_count": 59,
     "metadata": {},
     "output_type": "execute_result"
    }
   ],
   "source": [
    "# sadece degerleri bir listeye almak icin;\n",
    "list(valueDictionary.values())"
   ]
  },
  {
   "cell_type": "code",
   "execution_count": 60,
   "id": "1f0223a7",
   "metadata": {},
   "outputs": [
    {
     "data": {
      "text/plain": [
       "{'a': 100, 'b': 90, 'c': 80, 'd': 70}"
      ]
     },
     "execution_count": 60,
     "metadata": {},
     "output_type": "execute_result"
    }
   ],
   "source": [
    "# yeni key eklemek icin;\n",
    "valueDictionary[\"d\"]=70\n",
    "valueDictionary"
   ]
  },
  {
   "cell_type": "code",
   "execution_count": 61,
   "id": "5605a336",
   "metadata": {},
   "outputs": [
    {
     "data": {
      "text/plain": [
       "60"
      ]
     },
     "execution_count": 61,
     "metadata": {},
     "output_type": "execute_result"
    }
   ],
   "source": [
    "# get metodu ile erisim; get(\"value\",deger)\n",
    "# deger, varsayilan bir degerdir. \n",
    "valueDictionary.get(\"e\",60)\n",
    "# \"e\" nin degeri olmadigi icin 60 sonucunu getirir.\n"
   ]
  },
  {
   "cell_type": "markdown",
   "id": "081465e1",
   "metadata": {},
   "source": [
    "Sözlük içinde sözlük tanımlanabilir."
   ]
  },
  {
   "cell_type": "code",
   "execution_count": 62,
   "id": "7f4ba32f",
   "metadata": {},
   "outputs": [],
   "source": [
    "valueDictionary={\"a\":10,\"b\":20,\"c\":{\"k1\":1,\"k2\":2.34,\"k3\":\"test3\"},\"d\":\"testD\",\"e\":[30.5,40,50]}"
   ]
  },
  {
   "cell_type": "code",
   "execution_count": 63,
   "id": "8d462eac",
   "metadata": {},
   "outputs": [
    {
     "data": {
      "text/plain": [
       "'test3'"
      ]
     },
     "execution_count": 63,
     "metadata": {},
     "output_type": "execute_result"
    }
   ],
   "source": [
    "# Sırasi ile test3 ve 40 değerlerine ulasalim.\n",
    "valueDictionary[\"c\"][\"k3\"]"
   ]
  },
  {
   "cell_type": "code",
   "execution_count": 64,
   "id": "44c0891f",
   "metadata": {},
   "outputs": [
    {
     "data": {
      "text/plain": [
       "40"
      ]
     },
     "execution_count": 64,
     "metadata": {},
     "output_type": "execute_result"
    }
   ],
   "source": [
    "valueDictionary[\"e\"][1]"
   ]
  },
  {
   "cell_type": "markdown",
   "id": "1a4d6dae",
   "metadata": {},
   "source": [
    "Boş Dictionary oluşturmak için;"
   ]
  },
  {
   "cell_type": "code",
   "execution_count": 65,
   "id": "c565581e",
   "metadata": {},
   "outputs": [
    {
     "data": {
      "text/plain": [
       "dict"
      ]
     },
     "execution_count": 65,
     "metadata": {},
     "output_type": "execute_result"
    }
   ],
   "source": [
    "emptyMyDict=dict()\n",
    "type(emptyMyDict)"
   ]
  },
  {
   "cell_type": "markdown",
   "id": "c4aeb5ff",
   "metadata": {},
   "source": [
    "## 1.7) Sets Yapısı"
   ]
  },
  {
   "cell_type": "markdown",
   "id": "c30803d9",
   "metadata": {},
   "source": [
    "Sets, eşsiz elemanlara sahiptir ve sırasızlık yapısındadır.\n",
    "Yani unique elements, ve unordered. Her elemandan bir tane olabilir.\n",
    "Mesela içinde tekrarlı elemanlar bulunduran bir listeyi set'e çevirelim."
   ]
  },
  {
   "cell_type": "code",
   "execution_count": 66,
   "id": "0eb72bd1",
   "metadata": {},
   "outputs": [
    {
     "data": {
      "text/plain": [
       "{1, 2, 3, 4, 5, 10, 20}"
      ]
     },
     "execution_count": 66,
     "metadata": {},
     "output_type": "execute_result"
    }
   ],
   "source": [
    "myList=[1,2,3,4,3,3,5,2,10,20]\n",
    "mySets1=set(myList)\n",
    "mySets1 # Goruldugu gibi, her eleman bir kez alinir."
   ]
  },
  {
   "cell_type": "code",
   "execution_count": 67,
   "id": "3f6c9211",
   "metadata": {},
   "outputs": [
    {
     "data": {
      "text/plain": [
       "{10, 20, 30, 40, 50}"
      ]
     },
     "execution_count": 67,
     "metadata": {},
     "output_type": "execute_result"
    }
   ],
   "source": [
    "# Kendimizde set olusturabiliriz.\n",
    "mySets2={10,20,30,30,40,40,10,50}\n",
    "mySets2"
   ]
  },
  {
   "cell_type": "markdown",
   "id": "b5b0094d",
   "metadata": {},
   "source": [
    "Bazı set metotları"
   ]
  },
  {
   "cell_type": "code",
   "execution_count": 68,
   "id": "a742798e",
   "metadata": {},
   "outputs": [
    {
     "data": {
      "text/plain": [
       "{10, 20}"
      ]
     },
     "execution_count": 68,
     "metadata": {},
     "output_type": "execute_result"
    }
   ],
   "source": [
    "# İki kumenin kesisimine bakalim;\n",
    "mySets2.intersection(mySets1)"
   ]
  },
  {
   "cell_type": "code",
   "execution_count": 69,
   "id": "eb79bb55",
   "metadata": {},
   "outputs": [
    {
     "data": {
      "text/plain": [
       "{1, 2, 3, 4, 5, 10, 20, 30, 40, 50}"
      ]
     },
     "execution_count": 69,
     "metadata": {},
     "output_type": "execute_result"
    }
   ],
   "source": [
    "# İki kumenin birlesimi;\n",
    "mySets1.union(mySets2)"
   ]
  },
  {
   "cell_type": "markdown",
   "id": "a48cb0bc",
   "metadata": {},
   "source": [
    "Boş set oluşturmak"
   ]
  },
  {
   "cell_type": "code",
   "execution_count": 70,
   "id": "c474246d",
   "metadata": {},
   "outputs": [
    {
     "data": {
      "text/plain": [
       "set"
      ]
     },
     "execution_count": 70,
     "metadata": {},
     "output_type": "execute_result"
    }
   ],
   "source": [
    "# Bos set olusturmak icin;\n",
    "emptySets=set()\n",
    "type(emptySets)"
   ]
  },
  {
   "cell_type": "markdown",
   "id": "46b7536f",
   "metadata": {},
   "source": [
    "## 1.8) Tuple Yapısı"
   ]
  },
  {
   "cell_type": "markdown",
   "id": "caec064d",
   "metadata": {},
   "source": [
    "Tuples liste gibidir. Listeden farkı, içerisindeki elemanları değiştiremiyoruz."
   ]
  },
  {
   "cell_type": "code",
   "execution_count": 71,
   "id": "22c80349",
   "metadata": {},
   "outputs": [
    {
     "data": {
      "text/plain": [
       "(1, 2, 3, 'test')"
      ]
     },
     "execution_count": 71,
     "metadata": {},
     "output_type": "execute_result"
    }
   ],
   "source": [
    "myTuples=(1,2,3,\"test\")\n",
    "myTuples"
   ]
  },
  {
   "cell_type": "code",
   "execution_count": 72,
   "id": "a23b841f",
   "metadata": {},
   "outputs": [],
   "source": [
    "# myTuples[1]=12   \n",
    "# 'tuple' object does not support item assignment"
   ]
  },
  {
   "cell_type": "markdown",
   "id": "e7643084",
   "metadata": {},
   "source": [
    "Elemanı değiştirmek için, listeye çevirmemiz gerekir."
   ]
  },
  {
   "cell_type": "code",
   "execution_count": 73,
   "id": "8c0596ce",
   "metadata": {},
   "outputs": [
    {
     "data": {
      "text/plain": [
       "[1, 12, 3, 'test']"
      ]
     },
     "execution_count": 73,
     "metadata": {},
     "output_type": "execute_result"
    }
   ],
   "source": [
    "myNewList=list(myTuples)\n",
    "myNewList[1]=12\n",
    "myNewList"
   ]
  },
  {
   "cell_type": "markdown",
   "id": "b2a22bb8",
   "metadata": {},
   "source": [
    "## 1.9) Boolean Veri Tipi"
   ]
  },
  {
   "cell_type": "markdown",
   "id": "3cd5d406",
   "metadata": {},
   "source": [
    "Boolean sadece 2 değer alabilir. False veya True değerlerini alabilir."
   ]
  },
  {
   "cell_type": "code",
   "execution_count": 74,
   "id": "0202167f",
   "metadata": {},
   "outputs": [
    {
     "data": {
      "text/plain": [
       "bool"
      ]
     },
     "execution_count": 74,
     "metadata": {},
     "output_type": "execute_result"
    }
   ],
   "source": [
    "valueBool=False\n",
    "type(valueBool)"
   ]
  },
  {
   "cell_type": "markdown",
   "id": "9ba8d3bf",
   "metadata": {},
   "source": [
    "Bazı işlemler true veya false olarak yorumlanır. Örneğin;"
   ]
  },
  {
   "cell_type": "code",
   "execution_count": 75,
   "id": "fa1231b4",
   "metadata": {},
   "outputs": [
    {
     "data": {
      "text/plain": [
       "False"
      ]
     },
     "execution_count": 75,
     "metadata": {},
     "output_type": "execute_result"
    }
   ],
   "source": [
    "2>5"
   ]
  },
  {
   "cell_type": "code",
   "execution_count": 76,
   "id": "ef2f6835",
   "metadata": {},
   "outputs": [
    {
     "data": {
      "text/plain": [
       "True"
      ]
     },
     "execution_count": 76,
     "metadata": {},
     "output_type": "execute_result"
    }
   ],
   "source": [
    "2==2"
   ]
  },
  {
   "cell_type": "code",
   "execution_count": 77,
   "id": "e03ec75f",
   "metadata": {},
   "outputs": [
    {
     "data": {
      "text/plain": [
       "True"
      ]
     },
     "execution_count": 77,
     "metadata": {},
     "output_type": "execute_result"
    }
   ],
   "source": [
    "3<6"
   ]
  },
  {
   "cell_type": "code",
   "execution_count": null,
   "id": "c9db28ab",
   "metadata": {},
   "outputs": [],
   "source": []
  }
 ],
 "metadata": {
  "kernelspec": {
   "display_name": "Python 3 (ipykernel)",
   "language": "python",
   "name": "python3"
  },
  "language_info": {
   "codemirror_mode": {
    "name": "ipython",
    "version": 3
   },
   "file_extension": ".py",
   "mimetype": "text/x-python",
   "name": "python",
   "nbconvert_exporter": "python",
   "pygments_lexer": "ipython3",
   "version": "3.9.13"
  }
 },
 "nbformat": 4,
 "nbformat_minor": 5
}
