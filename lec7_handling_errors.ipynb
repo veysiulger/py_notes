{
 "cells": [
  {
   "cell_type": "markdown",
   "id": "7d8cb96f",
   "metadata": {},
   "source": [
    "# 7) HATALARI ELE ALMAK"
   ]
  },
  {
   "cell_type": "markdown",
   "id": "2b34b0fc",
   "metadata": {},
   "source": [
    "hataları yönetmek için;"
   ]
  },
  {
   "cell_type": "code",
   "execution_count": 1,
   "id": "c3d896c7",
   "metadata": {},
   "outputs": [
    {
     "name": "stdout",
     "output_type": "stream",
     "text": [
      "enter number:test\n",
      "enter a number!!!\n",
      "finally run every time\n",
      "enter number:23\n",
      "my num is 23\n",
      "else executed\n",
      "finally run every time\n"
     ]
    }
   ],
   "source": [
    "while True:\n",
    "    try:\n",
    "        num=int(input(\"enter number:\"))\n",
    "        print(f\"my num is {num}\")\n",
    "    except:\n",
    "        print(\"enter a number!!!\")\n",
    "    else:\n",
    "        print(\"else executed\")\n",
    "        break\n",
    "    finally:\n",
    "        print(\"finally run every time\")"
   ]
  }
 ],
 "metadata": {
  "kernelspec": {
   "display_name": "Python 3 (ipykernel)",
   "language": "python",
   "name": "python3"
  },
  "language_info": {
   "codemirror_mode": {
    "name": "ipython",
    "version": 3
   },
   "file_extension": ".py",
   "mimetype": "text/x-python",
   "name": "python",
   "nbconvert_exporter": "python",
   "pygments_lexer": "ipython3",
   "version": "3.9.13"
  }
 },
 "nbformat": 4,
 "nbformat_minor": 5
}
