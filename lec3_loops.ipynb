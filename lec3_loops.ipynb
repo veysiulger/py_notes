{
 "cells": [
  {
   "cell_type": "markdown",
   "id": "76592695",
   "metadata": {},
   "source": [
    "# 3) DÖNGÜLER"
   ]
  },
  {
   "cell_type": "markdown",
   "id": "ed83521d",
   "metadata": {},
   "source": [
    "## 3.1) For Loop"
   ]
  },
  {
   "cell_type": "markdown",
   "id": "4d231060",
   "metadata": {},
   "source": [
    "Bir değişken belirleyip, listedeki ya da dizideki verileri o değişkene atayarak işlem yaparız. İf kontrollerinde olduğu gibi scope kavramı yine tab üzerine kuruludur."
   ]
  },
  {
   "cell_type": "code",
   "execution_count": 1,
   "id": "0b14287e",
   "metadata": {},
   "outputs": [],
   "source": [
    "myList1=[1,2,3,4,5,6]"
   ]
  },
  {
   "cell_type": "code",
   "execution_count": 2,
   "id": "d1fa6c11",
   "metadata": {},
   "outputs": [
    {
     "name": "stdout",
     "output_type": "stream",
     "text": [
      "1\n",
      "2\n",
      "3\n",
      "4\n",
      "5\n",
      "6\n"
     ]
    }
   ],
   "source": [
    "#Burada belirledigimiz degisken item olsun\n",
    "for item in myList1:\n",
    "    print(item)\n",
    "    "
   ]
  },
  {
   "cell_type": "code",
   "execution_count": 3,
   "id": "4ebf2047",
   "metadata": {},
   "outputs": [
    {
     "name": "stdout",
     "output_type": "stream",
     "text": [
      "30\n",
      "60\n",
      "90\n"
     ]
    }
   ],
   "source": [
    "myList2=[10,20,30,40,50,60,70,80,90]\n",
    "for item in myList2:\n",
    "    newItem=item%6\n",
    "    if(newItem==0):\n",
    "        print(item)\n"
   ]
  },
  {
   "cell_type": "markdown",
   "id": "46906fec",
   "metadata": {},
   "source": [
    "Liste içindeki tuple elemanlarını yazdırmak için;"
   ]
  },
  {
   "cell_type": "code",
   "execution_count": 4,
   "id": "ff96b80a",
   "metadata": {},
   "outputs": [
    {
     "name": "stdout",
     "output_type": "stream",
     "text": [
      "a b\n",
      "c d\n",
      "e f\n",
      "g h\n"
     ]
    }
   ],
   "source": [
    "myList3=[(\"a\",\"b\"),(\"c\",\"d\"),(\"e\",\"f\"),(\"g\",\"h\")]\n",
    "for (x,y) in myList3:\n",
    "    print(x,y)"
   ]
  },
  {
   "cell_type": "markdown",
   "id": "a9a7cea3",
   "metadata": {},
   "source": [
    "Dictionary ile for kullanımı:"
   ]
  },
  {
   "cell_type": "code",
   "execution_count": 5,
   "id": "34d55873",
   "metadata": {},
   "outputs": [
    {
     "name": "stdout",
     "output_type": "stream",
     "text": [
      "key1 100\n",
      "key2 200\n",
      "key3 300\n"
     ]
    }
   ],
   "source": [
    "dictItems={\"key1\":100,\"key2\":200,\"key3\":300}\n",
    "for (key,value) in dictItems.items():\n",
    "    print(key,value)"
   ]
  },
  {
   "cell_type": "markdown",
   "id": "9c0a135f",
   "metadata": {},
   "source": [
    "### Continue, Break"
   ]
  },
  {
   "cell_type": "markdown",
   "id": "625c71dd",
   "metadata": {},
   "source": [
    "Break Kullanımı:"
   ]
  },
  {
   "cell_type": "code",
   "execution_count": 6,
   "id": "caf10e7c",
   "metadata": {},
   "outputs": [
    {
     "name": "stdout",
     "output_type": "stream",
     "text": [
      "3\n"
     ]
    }
   ],
   "source": [
    "myList4=[1,2,3,4,5,6,7,8,9]\n",
    "for number in myList4:\n",
    "    if number==3:\n",
    "        print(number)\n",
    "        break\n",
    "    "
   ]
  },
  {
   "cell_type": "markdown",
   "id": "904290d8",
   "metadata": {},
   "source": [
    "Continue Kullanımı: İlgili şart sağlandığında döngüye devam edilmesini sağlar. O andaki kod çalıştırılmaz."
   ]
  },
  {
   "cell_type": "code",
   "execution_count": 7,
   "id": "52c0e2e8",
   "metadata": {},
   "outputs": [
    {
     "name": "stdout",
     "output_type": "stream",
     "text": [
      "1\n",
      "2\n",
      "3\n",
      "4\n",
      "6\n",
      "7\n",
      "8\n",
      "9\n"
     ]
    }
   ],
   "source": [
    "myList5=[1,2,3,4,5,6,7,8,9]\n",
    "for number in myList5:\n",
    "    if number==5:\n",
    "        continue\n",
    "    print(number)\n",
    "        \n",
    "    "
   ]
  },
  {
   "cell_type": "markdown",
   "id": "5ae94c2e",
   "metadata": {},
   "source": [
    "## 3.2) While Loop"
   ]
  },
  {
   "cell_type": "code",
   "execution_count": 8,
   "id": "67c74837",
   "metadata": {},
   "outputs": [
    {
     "name": "stdout",
     "output_type": "stream",
     "text": [
      "0\n",
      "1\n",
      "2\n",
      "3\n",
      "4\n"
     ]
    }
   ],
   "source": [
    "varA=0\n",
    "while varA<5:\n",
    "    print(varA)\n",
    "    varA=varA+1"
   ]
  },
  {
   "cell_type": "code",
   "execution_count": 9,
   "id": "31d53b60",
   "metadata": {},
   "outputs": [
    {
     "name": "stdout",
     "output_type": "stream",
     "text": [
      "b in list\n",
      "b in list\n",
      "b in list\n",
      "b in list\n"
     ]
    }
   ],
   "source": [
    "myList6=[\"a\",\"b\",\"c\",\"d\",\"e\"]\n",
    "while \"b\" in myList6:\n",
    "    print(\"b in list\")\n",
    "    myList6.pop()"
   ]
  },
  {
   "cell_type": "code",
   "execution_count": null,
   "id": "61c84368",
   "metadata": {},
   "outputs": [],
   "source": []
  }
 ],
 "metadata": {
  "kernelspec": {
   "display_name": "Python 3 (ipykernel)",
   "language": "python",
   "name": "python3"
  },
  "language_info": {
   "codemirror_mode": {
    "name": "ipython",
    "version": 3
   },
   "file_extension": ".py",
   "mimetype": "text/x-python",
   "name": "python",
   "nbconvert_exporter": "python",
   "pygments_lexer": "ipython3",
   "version": "3.9.13"
  }
 },
 "nbformat": 4,
 "nbformat_minor": 5
}
